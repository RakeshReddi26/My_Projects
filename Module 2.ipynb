{
  "cells": [
    {
      "cell_type": "markdown",
      "metadata": {
        "id": "vncDsAP0Gaoa"
      },
      "source": [
        "# **Project Name**    - Hotel Booking Analysis\n",
        "\n",
        "\n"
      ]
    },
    {
      "cell_type": "markdown",
      "metadata": {
        "id": "beRrZCGUAJYm"
      },
      "source": [
        "##### **Project Type**    - Exploratory Data Analysis (EDA)\n",
        "##### **Contribution**    - Individual\n",
        "##### **Name -**Rakesh Kumar\n"
      ]
    },
    {
      "cell_type": "markdown",
      "metadata": {
        "id": "FJNUwmbgGyua"
      },
      "source": [
        "# **Project Summary -**"
      ]
    },
    {
      "cell_type": "markdown",
      "metadata": {
        "id": "F6v_1wHtG2nS"
      },
      "source": [
        "As an overview, hotel reservation systems typically work by allowing guests to reserve the dates for their stay based on the real-time display of your rates and inventory across all booking channels and finalise their reservation through an online payment portal.\n",
        "\n",
        "A hotel booking system helps streamline your operations by automating many of these tasks. For example, you can set up automatic confirmation emails to be sent to guests when they make a reservation. This saves you a lot of time and ensures that your guests always have the latest information about their reservation.\n",
        "\n",
        "In addition, a hotel booking system can help you track your staff's performance and sales. This data can be extremely valuable in identifying areas of improvement and taking action to improve your hotel's overall performance.\n",
        "\n",
        "For the given Dataset we have\n",
        "\n",
        "* Imported Libraries\n",
        "* Loaded Dataset\n",
        "* Visualize Missing values\n",
        "* Handled Missing values\n",
        "* Shown Dataset Information\n",
        "* Understanding our dataset\n",
        "* Data Vizualization\n",
        "* Storytelling & Experimenting with charts\n",
        "* Understand the relationships between variablesmary here within 500-600 words."
      ]
    },
    {
      "cell_type": "markdown",
      "metadata": {
        "id": "w6K7xa23Elo4"
      },
      "source": [
        "# **GitHub Link -**"
      ]
    },
    {
      "cell_type": "markdown",
      "metadata": {
        "id": "h1o69JH3Eqqn"
      },
      "source": [
        "https://github.com/RakeshReddi26/My_Projects"
      ]
    },
    {
      "cell_type": "markdown",
      "metadata": {
        "id": "yQaldy8SH6Dl"
      },
      "source": [
        "# **Problem Statement**\n"
      ]
    },
    {
      "cell_type": "markdown",
      "metadata": {
        "id": "DpeJGUA3kjGy"
      },
      "source": [
        "For this project we will be analyzing Hotel Booking data. This data set contains booking information for a city hotel and a resort hotel, and includes information such as when the booking was made, length of stay, the number of adults, children and or babies, and the number of available parking spaces. Hotel industry is a very volatile industry and the bookings depends on above factors and many more. The main objective behind this project is to explore and analyze data to discover important factors that govern the bookings and give Insights to hotel management.\n",
        "\n",
        "The aim of this study is to conduct a comprehensive Exploratory Data Analysis (EDA) of hotel booking data to uncover valuable insights and patterns that can inform strategic decisions for a hotel business. The analysis will focus on understanding booking trends, customer preferences, and factors influencing booking cancellations."
      ]
    },
    {
      "cell_type": "markdown",
      "metadata": {
        "id": "PH-0ReGfmX4f"
      },
      "source": [
        "#### **Define Your Business Objective?**"
      ]
    },
    {
      "cell_type": "markdown",
      "metadata": {
        "id": "PhDvGCAqmjP1"
      },
      "source": [
        "The EDA of hotel booking data is expected to yield actionable insights that can guide the hotel management in making informed decisions, such as optimizing pricing strategies, refining marketing efforts, enhancing guest experience, and revising cancellation policies. Additionally, this analysis will contribute to a deeper understanding of customer behavior and industry dynamics, enabling the hotel to stay competitive and adaptive in a rapidly changing market.\n",
        "\n",
        "The EDA will involve data cleaning, visualization, statistical analysis, and exploratory techniques. Python programming and relevant libraries (e.g., Pandas, Matplotlib, Seaborn) will be utilized for data manipulation and visualization. The analysis will be documented through visualizations, summary statistics, and concise reports to present findings and insights effectively.\n",
        "\n",
        "The main goal of online hotel booking systems is to give clients a quick and easy way to make hotel reservations. This includes offering a user-friendly interface, safe payment processing, and access to the most recent data regarding available rooms. These systems should also be able to handle reservations rapidly so that clients can promptly receive the space they require. Overall, it seems that the majority of online hotel reservation systems in use today are accomplishing these goals. Customers may quickly complete the transaction without any problems or delays and have access to extensive information about each property before making their booking decision."
      ]
    },
    {
      "cell_type": "markdown",
      "metadata": {
        "id": "mDgbUHAGgjLW"
      },
      "source": [
        "# **General Guidelines** : -  "
      ]
    },
    {
      "cell_type": "markdown",
      "metadata": {
        "id": "ZrxVaUj-hHfC"
      },
      "source": [
        "1.   Well-structured, formatted, and commented code is required.\n",
        "2.   Exception Handling, Production Grade Code & Deployment Ready Code will be a plus. Those students will be awarded some additional credits.\n",
        "     \n",
        "     The additional credits will have advantages over other students during Star Student selection.\n",
        "       \n",
        "             [ Note: - Deployment Ready Code is defined as, the whole .ipynb notebook should be executable in one go\n",
        "                       without a single error logged. ]\n",
        "\n",
        "3.   Each and every logic should have proper comments.\n",
        "4. You may add as many number of charts you want. Make Sure for each and every chart the following format should be answered.\n",
        "        \n",
        "\n",
        "```\n",
        "# Chart visualization code\n",
        "```\n",
        "            \n",
        "\n",
        "*   Why did you pick the specific chart?\n",
        "*   What is/are the insight(s) found from the chart?\n",
        "* Will the gained insights help creating a positive business impact?\n",
        "Are there any insights that lead to negative growth? Justify with specific reason.\n",
        "\n",
        "5. You have to create at least 20 logical & meaningful charts having important insights.\n",
        "\n",
        "\n",
        "[ Hints : - Do the Vizualization in  a structured way while following \"UBM\" Rule.\n",
        "\n",
        "U - Univariate Analysis,\n",
        "\n",
        "B - Bivariate Analysis (Numerical - Categorical, Numerical - Numerical, Categorical - Categorical)\n",
        "\n",
        "M - Multivariate Analysis\n",
        " ]\n",
        "\n",
        "\n",
        "\n"
      ]
    },
    {
      "cell_type": "markdown",
      "metadata": {
        "id": "O_i_v8NEhb9l"
      },
      "source": [
        "# ***Let's Begin !***"
      ]
    },
    {
      "cell_type": "markdown",
      "metadata": {
        "id": "HhfV-JJviCcP"
      },
      "source": [
        "## ***1. Know Your Data***"
      ]
    },
    {
      "cell_type": "markdown",
      "metadata": {
        "id": "Y3lxredqlCYt"
      },
      "source": [
        "### Import Libraries"
      ]
    },
    {
      "cell_type": "code",
      "execution_count": null,
      "metadata": {
        "id": "M8Vqi-pPk-HR"
      },
      "outputs": [],
      "source": [
        "# Importing the required libraries\n",
        "import numpy as np\n",
        "import pandas as pd\n",
        "import seaborn as sns\n",
        "import matplotlib.pyplot as plt\n",
        "import warnings\n",
        "warnings.filterwarnings('ignore')\n"
      ]
    },
    {
      "cell_type": "markdown",
      "metadata": {
        "id": "3RnN4peoiCZX"
      },
      "source": [
        "### Dataset Loading"
      ]
    },
    {
      "cell_type": "code",
      "execution_count": null,
      "metadata": {
        "id": "4CkvbW_SlZ_R"
      },
      "outputs": [],
      "source": [
        "# Loading Dataset\n",
        "hotel_bookings = pd.read_csv(\"/content/Hotel Bookings data.csv\")"
      ]
    },
    {
      "cell_type": "markdown",
      "metadata": {
        "id": "x71ZqKXriCWQ"
      },
      "source": [
        "### Dataset First View"
      ]
    },
    {
      "cell_type": "code",
      "execution_count": null,
      "metadata": {
        "id": "LWNFOSvLl09H"
      },
      "outputs": [],
      "source": [
        "# To get 1st look of the data set (1st five rows as (.head), last five rows as (.tail))\n",
        "hotel_bookings"
      ]
    },
    {
      "cell_type": "markdown",
      "metadata": {
        "id": "7hBIi_osiCS2"
      },
      "source": [
        "### Dataset Rows & Columns count"
      ]
    },
    {
      "cell_type": "code",
      "execution_count": null,
      "metadata": {
        "id": "Kllu7SJgmLij"
      },
      "outputs": [],
      "source": [
        "# To get count of Rows & Columns\n",
        "hotel_bookings.shape"
      ]
    },
    {
      "cell_type": "markdown",
      "metadata": {
        "id": "JlHwYmJAmNHm"
      },
      "source": [
        "### Dataset Information"
      ]
    },
    {
      "cell_type": "code",
      "execution_count": null,
      "metadata": {
        "id": "e9hRXRi6meOf"
      },
      "outputs": [],
      "source": [
        "# Info of the Dataset\n",
        "hotel_bookings.info()"
      ]
    },
    {
      "cell_type": "markdown",
      "metadata": {
        "id": "35m5QtbWiB9F"
      },
      "source": [
        "#### Duplicate Values"
      ]
    },
    {
      "cell_type": "code",
      "execution_count": null,
      "metadata": {
        "id": "1sLdpKYkmox0"
      },
      "outputs": [],
      "source": [
        "# Dataset Duplicate Value Count\n",
        "hotel_bookings.duplicated().count()"
      ]
    },
    {
      "cell_type": "markdown",
      "metadata": {
        "id": "PoPl-ycgm1ru"
      },
      "source": [
        "#### Missing Values/Null Values"
      ]
    },
    {
      "cell_type": "code",
      "execution_count": null,
      "metadata": {
        "id": "GgHWkxvamxVg"
      },
      "outputs": [],
      "source": [
        "# Missing Values/Null Values Count\n",
        "hotel_bookings.isna().sum().sum()\n"
      ]
    },
    {
      "cell_type": "code",
      "execution_count": null,
      "metadata": {
        "id": "3q5wnI3om9sJ"
      },
      "outputs": [],
      "source": [
        "# Visualizing the missing values\n",
        "hotel_bookings.isna().sum()"
      ]
    },
    {
      "cell_type": "code",
      "execution_count": null,
      "metadata": {
        "id": "BiwJtsPgXJYx"
      },
      "outputs": [],
      "source": [
        "# Dropping company attribute for having more missing/null values\n",
        "hotel_bookings.drop(['company'], axis=1, inplace=True)\n"
      ]
    },
    {
      "cell_type": "code",
      "execution_count": null,
      "metadata": {
        "id": "9RUA-JXNXOpn"
      },
      "outputs": [],
      "source": [
        "# Filling the missing values\n",
        "hotel_bookings.fillna({\"agent\":hotel_bookings['agent'].mean(),\n",
        "                       \"children\":hotel_bookings['children'].mean(),\n",
        "           \"country\": hotel_bookings['country'].mode()[0]},\n",
        "          inplace=True)\n",
        "hotel_bookings"
      ]
    },
    {
      "cell_type": "code",
      "execution_count": null,
      "metadata": {
        "id": "r6RirlbLXUdU"
      },
      "outputs": [],
      "source": [
        "# re-checking the null values\n",
        "hotel_bookings.isna().sum()"
      ]
    },
    {
      "cell_type": "markdown",
      "metadata": {
        "id": "H0kj-8xxnORC"
      },
      "source": [
        "### What did you know about your dataset?"
      ]
    },
    {
      "cell_type": "markdown",
      "metadata": {
        "id": "gfoNAAC-nUe_"
      },
      "source": [
        "The dataset is about hotel booking analysis, in the data we have the number of people stayed in the hotel and how many days they stayed and also the arrival date ,total number of adults , childrens and kind of meals which they had, This dataset includes information about two different types of hotels (City and Resort)"
      ]
    },
    {
      "cell_type": "markdown",
      "metadata": {
        "id": "nA9Y7ga8ng1Z"
      },
      "source": [
        "## ***2. Understanding Your Variables***"
      ]
    },
    {
      "cell_type": "code",
      "execution_count": null,
      "metadata": {
        "id": "j7xfkqrt5Ag5"
      },
      "outputs": [],
      "source": [
        "# Dataset Columns\n",
        "hotel_bookings.columns"
      ]
    },
    {
      "cell_type": "code",
      "execution_count": null,
      "metadata": {
        "id": "DnOaZdaE5Q5t"
      },
      "outputs": [],
      "source": [
        "# Dataset Describe\n",
        "hotel_bookings.describe()"
      ]
    },
    {
      "cell_type": "markdown",
      "metadata": {
        "id": "PBTbrJXOngz2"
      },
      "source": [
        "### Variables Description"
      ]
    },
    {
      "cell_type": "markdown",
      "metadata": {
        "id": "aJV4KIxSnxay"
      },
      "source": [
        "1. hotel: The category of hotels, which are two resort hotel and city hotel.\n",
        "2. is_cancelled : The value of column show the cancellation type. If the booking was cancelled or not. Values[0,1], where 0 indicates not cancelled.\n",
        "3. lead_time : The time between reservation and actual arrival.\n",
        "4. arrival_date_year : Year of arrival date\n",
        "5. arrival_date_month : Month of arrival date\n",
        "6. arrival_date_week_number : Week number for arrival date\n",
        "7. arrival dat day : Day of arrival date\n",
        "8. stayed_in_weekend_nights: The number of weekend nights stay per reservation\n",
        "9. stayed_in_weekday_nights: The number of weekday nights stay per reservation.\n",
        "10.adults : Number of adults\n",
        "11.children : Number of children\n",
        "12.babies : Number of babies\n",
        "13.meal: Meal preferences per reservation.[BB,FB,HB,SC,Undefined]\n",
        "14.Country: The origin country of guest\n",
        "15.market_segment: This column show how reservation was made and what is the purpose of reservation. Eg, corporate means corporate trip, TA for travel agency.\n",
        "16.distribution_channel: The medium through booking was made.[Direct,Corporate,TA/TO,undefined,GDS.]\n",
        "17.Is_repeated_guest: Shows if the guest is who has arrived earlier or not.Values[0,1]-->0 indicates no and 1 indicated yes person is repeated guest.\n",
        "18.previous_cancellation : Was there a cancellation before\n",
        "19.previous bookings : Count of previous bookings.\n",
        "20.reserved_room_type : Type of room reserved\n",
        "21.assigned_room_type : Type of room assigned\n",
        "22.booking changes : Count of changes made to booking\n",
        "23.deposit_type : Deposit type\n",
        "24.agent : Booked through agent\n",
        "25.days_in_waiting_list: Number of days between actual booking and transact.\n",
        "26.customer_type: Type of customers( Transient, group, etc.)\n",
        "27.required_car_parking : If car parking is required\n",
        "28.total_of_special_req : Number of additional special requirements\n",
        "29.reservation_status : reservation_status_date\n",
        "30.Reservation of status : Date of the specific status"
      ]
    },
    {
      "cell_type": "markdown",
      "metadata": {
        "id": "u3PMJOP6ngxN"
      },
      "source": [
        "### Check Unique Values for each variable."
      ]
    },
    {
      "cell_type": "code",
      "execution_count": null,
      "metadata": {
        "id": "zms12Yq5n-jE"
      },
      "outputs": [],
      "source": [
        "# Check Unique Values for each variable.\n",
        "hotel_bookings.nunique()\n"
      ]
    },
    {
      "cell_type": "code",
      "execution_count": null,
      "metadata": {
        "id": "alAiYiUzX6FR"
      },
      "outputs": [],
      "source": [
        "# Dropping company attribute for having more unique values\n",
        "hotel_bookings.drop(['adr'], axis=1, inplace=True)"
      ]
    },
    {
      "cell_type": "markdown",
      "metadata": {
        "id": "dauF4eBmngu3"
      },
      "source": [
        "## 3. ***Data Wrangling***"
      ]
    },
    {
      "cell_type": "markdown",
      "metadata": {
        "id": "bKJF3rekwFvQ"
      },
      "source": [
        "### Data Wrangling Code"
      ]
    },
    {
      "cell_type": "code",
      "execution_count": null,
      "metadata": {
        "id": "wk-9a2fpoLcV"
      },
      "outputs": [],
      "source": [
        "# Write your code to make your dataset analysis ready.\n",
        "# It describes the attribute with object datatype\n",
        "hotel_bookings.describe(include=[\"object\"])"
      ]
    },
    {
      "cell_type": "code",
      "execution_count": null,
      "metadata": {
        "id": "5cw1AP_ZQamI"
      },
      "outputs": [],
      "source": [
        "#To show the data types\n",
        "hotel_bookings.dtypes\n"
      ]
    },
    {
      "cell_type": "code",
      "execution_count": null,
      "metadata": {
        "id": "8_MTFSlOT_qU"
      },
      "outputs": [],
      "source": [
        " # It counts the total values in that column\n",
        "hotel_bookings['hotel'].value_counts()"
      ]
    },
    {
      "cell_type": "code",
      "execution_count": null,
      "metadata": {
        "id": "3v3nCsUgUVxO"
      },
      "outputs": [],
      "source": [
        "# It tells the percentage of counts of total values in that column\n",
        "hotel_bookings.hotel.value_counts(normalize = True)*100"
      ]
    },
    {
      "cell_type": "code",
      "execution_count": null,
      "metadata": {
        "id": "YFq03yE7UaLE"
      },
      "outputs": [],
      "source": [
        "# It counts the total values in that column of top 10\n",
        "hotel_bookings[\"country\"].value_counts().head(10)"
      ]
    },
    {
      "cell_type": "code",
      "execution_count": null,
      "metadata": {
        "id": "GfIfxSsjUdcD"
      },
      "outputs": [],
      "source": [
        "# It tells the percentage of counts of total values in that column of top 10\n",
        "hotel_bookings.country.value_counts(normalize = True).head(10)*100"
      ]
    },
    {
      "cell_type": "code",
      "execution_count": null,
      "metadata": {
        "id": "m3qYqIzpZ89F"
      },
      "outputs": [],
      "source": [
        "# To show the co-relation\n",
        "hotel_bookings.corr()\n"
      ]
    },
    {
      "cell_type": "markdown",
      "metadata": {
        "id": "MSa1f5Uengrz"
      },
      "source": [
        "### What all manipulations have you done and insights you found?"
      ]
    },
    {
      "cell_type": "markdown",
      "metadata": {
        "id": "LbyXE7I1olp8"
      },
      "source": [
        "I have collected and transformed Raw data into another format for better understanding, decision-making, accessing, and analysis in less time. Like I have dropped the attribute which have more null value and the attribute which has less null values I have filled it by using mean for numeric data type and mode for categorical data type. And also I dropped the column adr(average daily rate) which is having more unique values. Like these we have cleaned the dataset for doing our EDA in less time."
      ]
    },
    {
      "cell_type": "markdown",
      "metadata": {
        "id": "GF8Ens_Soomf"
      },
      "source": [
        "## ***4. Data Vizualization, Storytelling & Experimenting with charts : Understand the relationships between variables***"
      ]
    },
    {
      "cell_type": "markdown",
      "metadata": {
        "id": "0wOQAZs5pc--"
      },
      "source": [
        "#### Chart - 1"
      ]
    },
    {
      "cell_type": "code",
      "execution_count": null,
      "metadata": {
        "id": "7v_ESjsspbW7"
      },
      "outputs": [],
      "source": [
        "\n",
        "#Chart 1 visualization code (Box Plot)\n",
        "hotel_bookings.boxplot(column =['lead_time'], grid = False)\n",
        "\n"
      ]
    },
    {
      "cell_type": "markdown",
      "metadata": {
        "id": "K5QZ13OEpz2H"
      },
      "source": [
        "##### 1. Why did you pick the specific chart?"
      ]
    },
    {
      "cell_type": "markdown",
      "metadata": {
        "id": "XESiWehPqBRc"
      },
      "source": [
        "It is to show the outliers in the lead time attribute.\n",
        "\n",
        "Lead time - the period of time (most typically measured in calendar days) between when a guest makes the reservation and the actual check-in/arrival date."
      ]
    },
    {
      "cell_type": "markdown",
      "metadata": {
        "id": "lQ7QKXXCp7Bj"
      },
      "source": [
        "##### 2. What is/are the insight(s) found from the chart?"
      ]
    },
    {
      "cell_type": "markdown",
      "metadata": {
        "id": "C_j1G7yiqdRP"
      },
      "source": [
        "By seeing the chart we can say that more outliers likes some of the people are reserving the hotel before 700 days and some of them are booking in advance before 400 days."
      ]
    },
    {
      "cell_type": "markdown",
      "metadata": {
        "id": "448CDAPjqfQr"
      },
      "source": [
        "##### 3. Will the gained insights help creating a positive business impact?\n",
        "Are there any insights that lead to negative growth? Justify with specific reason."
      ]
    },
    {
      "cell_type": "markdown",
      "metadata": {
        "id": "3cspy4FjqxJW"
      },
      "source": [
        "\n",
        "\n",
        "Yes, the gained insights help creating a positive business impact that we can know in advance about the reserved booking in particular hotel and how many vacancies we have in our hotel to give rooms for the customers."
      ]
    },
    {
      "cell_type": "markdown",
      "metadata": {
        "id": "KSlN3yHqYklG"
      },
      "source": [
        "#### Chart - 2"
      ]
    },
    {
      "cell_type": "code",
      "execution_count": null,
      "metadata": {
        "id": "R4YgtaqtYklH"
      },
      "outputs": [],
      "source": [
        "# Chart - 2 visualization code\n",
        "import matplotlib.pyplot as plt (Heatmap)\n",
        "import seaborn as sns\n",
        "import pandas as pd\n",
        "\n",
        "# Assuming hotel_bookings is our DataFrame\n",
        "# Example of dropping non-numeric columns (like categorical columns)\n",
        "numeric_columns = hotel_bookings.select_dtypes(include=['number'])\n",
        "\n",
        "plt.figure(figsize=(15, 10))\n",
        "sns.heatmap(numeric_columns.corr(), annot=True)\n",
        "plt.show()\n"
      ]
    },
    {
      "cell_type": "markdown",
      "metadata": {
        "id": "t6dVpIINYklI"
      },
      "source": [
        "##### 1. Why did you pick the specific chart?"
      ]
    },
    {
      "cell_type": "markdown",
      "metadata": {
        "id": "5aaW0BYyYklI"
      },
      "source": [
        "This chart is to show the co-relation between all the attributes."
      ]
    },
    {
      "cell_type": "markdown",
      "metadata": {
        "id": "ijmpgYnKYklI"
      },
      "source": [
        "##### 2. What is/are the insight(s) found from the chart?"
      ]
    },
    {
      "cell_type": "markdown",
      "metadata": {
        "id": "PSx9atu2YklI"
      },
      "source": [
        "Here we can see that no 2 attributes are either highly co-related or negatively co-related."
      ]
    },
    {
      "cell_type": "markdown",
      "metadata": {
        "id": "-JiQyfWJYklI"
      },
      "source": [
        "##### 3. Will the gained insights help creating a positive business impact?\n",
        "Are there any insights that lead to negative growth? Justify with specific reason."
      ]
    },
    {
      "cell_type": "markdown",
      "metadata": {
        "id": "BcBbebzrYklV"
      },
      "source": [
        "\n",
        "It is used when there are highly co-related or negatively co-related then we can drop those columns for better accuracy while predicting."
      ]
    },
    {
      "cell_type": "markdown",
      "metadata": {
        "id": "EM7whBJCYoAo"
      },
      "source": [
        "#### Chart - 3"
      ]
    },
    {
      "cell_type": "code",
      "execution_count": null,
      "metadata": {
        "id": "t6GMdE67YoAp"
      },
      "outputs": [],
      "source": [
        "# Chart - 3 visualization code (Countplot - displays the results as a bar chart)\n",
        "sns.countplot(x='adults',hue='hotel', data=hotel_bookings)\n",
        "plt.title(\"Number of adults in each hotel type\")\n",
        "plt.show()\n"
      ]
    },
    {
      "cell_type": "markdown",
      "metadata": {
        "id": "fge-S5ZAYoAp"
      },
      "source": [
        "##### 1. Why did you pick the specific chart?"
      ]
    },
    {
      "cell_type": "markdown",
      "metadata": {
        "id": "5dBItgRVYoAp"
      },
      "source": [
        "To visualize things about the Adults who arrives the most in hotels"
      ]
    },
    {
      "cell_type": "markdown",
      "metadata": {
        "id": "85gYPyotYoAp"
      },
      "source": [
        "##### 2. What is/are the insight(s) found from the chart?"
      ]
    },
    {
      "cell_type": "markdown",
      "metadata": {
        "id": "4jstXR6OYoAp"
      },
      "source": [
        "This bar graphs for knowing the count of Adults arriving the Resort and City hotel, with respect to the count of them."
      ]
    },
    {
      "cell_type": "markdown",
      "metadata": {
        "id": "RoGjAbkUYoAp"
      },
      "source": [
        "##### 3. Will the gained insights help creating a positive business impact?\n",
        "Are there any insights that lead to negative growth? Justify with specific reason."
      ]
    },
    {
      "cell_type": "markdown",
      "metadata": {
        "id": "zfJ8IqMcYoAp"
      },
      "source": [
        "As in the above data more chances of Adults arriving are couples. So we can arrange the things in the hotels to morely attracted to couples."
      ]
    },
    {
      "cell_type": "markdown",
      "metadata": {
        "id": "4Of9eVA-YrdM"
      },
      "source": [
        "#### Chart - 4"
      ]
    },
    {
      "cell_type": "code",
      "execution_count": null,
      "metadata": {
        "id": "irlUoxc8YrdO"
      },
      "outputs": [],
      "source": [
        "# Chart - 4 visualization code (Countplot)\n",
        "plt.figure(figsize=(12, 6))\n",
        "sns.countplot(x='children',hue='hotel', data=hotel_bookings)\n",
        "plt.title(\"Number of children in each hotel type\")\n",
        "\n",
        "(0.5, 1.0, 'Number of children in each hotel type')\n",
        "plt.show()"
      ]
    },
    {
      "cell_type": "markdown",
      "metadata": {
        "id": "iky9q4vBYrdO"
      },
      "source": [
        "##### 1. Why did you pick the specific chart?"
      ]
    },
    {
      "cell_type": "markdown",
      "metadata": {
        "id": "aJRCwT6DYrdO"
      },
      "source": [
        "To visualize things about the Children who arrives hotel"
      ]
    },
    {
      "cell_type": "markdown",
      "metadata": {
        "id": "F6T5p64dYrdO"
      },
      "source": [
        "##### 2. What is/are the insight(s) found from the chart?"
      ]
    },
    {
      "cell_type": "markdown",
      "metadata": {
        "id": "Xx8WAJvtYrdO"
      },
      "source": [
        "This bar graphs for knowing the count of Children arriving the Resort and City hotel, with respect to the count of them."
      ]
    },
    {
      "cell_type": "markdown",
      "metadata": {
        "id": "y-Ehk30pYrdP"
      },
      "source": [
        "##### 3. Will the gained insights help creating a positive business impact?\n",
        "Are there any insights that lead to negative growth? Justify with specific reason."
      ]
    },
    {
      "cell_type": "markdown",
      "metadata": {
        "id": "jLNxxz7MYrdP"
      },
      "source": [
        "This tells about the children very rarely arriving its a negative growth. So we have to make our hotels by arranging some games and toys to attractive them."
      ]
    },
    {
      "cell_type": "markdown",
      "metadata": {
        "id": "bamQiAODYuh1"
      },
      "source": [
        "#### Chart - 5"
      ]
    },
    {
      "cell_type": "code",
      "execution_count": null,
      "metadata": {
        "id": "TIJwrbroYuh3"
      },
      "outputs": [],
      "source": [
        "# Chart - 5 visualization code (Countplot)\n",
        "sns.countplot(x='babies',hue='hotel', data=hotel_bookings)\n",
        "plt.title(\"Number of babies in each hotel type\")\n",
        "\n",
        "(0.5, 1.0, 'Number of babies in each hotel type')\n",
        "plt.show()"
      ]
    },
    {
      "cell_type": "markdown",
      "metadata": {
        "id": "QHF8YVU7Yuh3"
      },
      "source": [
        "##### 1. Why did you pick the specific chart?"
      ]
    },
    {
      "cell_type": "markdown",
      "metadata": {
        "id": "dcxuIMRPYuh3"
      },
      "source": [
        "To visualize things about the Babies who arrives hotel"
      ]
    },
    {
      "cell_type": "markdown",
      "metadata": {
        "id": "GwzvFGzlYuh3"
      },
      "source": [
        "##### 2. What is/are the insight(s) found from the chart?"
      ]
    },
    {
      "cell_type": "markdown",
      "metadata": {
        "id": "uyqkiB8YYuh3"
      },
      "source": [
        "This bar graphs for knowing the count of Babies arriving the Resort and City hotel, with respect to the count of them."
      ]
    },
    {
      "cell_type": "markdown",
      "metadata": {
        "id": "qYpmQ266Yuh3"
      },
      "source": [
        "##### 3. Will the gained insights help creating a positive business impact?\n",
        "Are there any insights that lead to negative growth? Justify with specific reason."
      ]
    },
    {
      "cell_type": "markdown",
      "metadata": {
        "id": "_WtzZ_hCYuh4"
      },
      "source": [
        "We can clearly see that babies arriving is very much less. So we reduce the supply like, it can make to be limited supply for babies and give some basic requirements is enough."
      ]
    },
    {
      "cell_type": "markdown",
      "metadata": {
        "id": "OH-pJp9IphqM"
      },
      "source": [
        "#### Chart - 6"
      ]
    },
    {
      "cell_type": "code",
      "execution_count": null,
      "metadata": {
        "id": "kuRf4wtuphqN"
      },
      "outputs": [],
      "source": [
        "# Chart - 6 visualization code (Bar Plot)\n",
        "# 0 is not canceled, 1 i canceled\n",
        "plt.figure(figsize=(8,4))\n",
        "sns.barplot(x= 'arrival_date_year',y='lead_time', hue='is_canceled', data= hotel_bookings)\n",
        "plt.title('Leadtime and Cancellations in particular year')\n",
        "\n",
        "(0.5, 1.0, 'Leadtime and Cancellations in particular year')\n",
        "plt.show()"
      ]
    },
    {
      "cell_type": "markdown",
      "metadata": {
        "id": "bbFf2-_FphqN"
      },
      "source": [
        "##### 1. Why did you pick the specific chart?"
      ]
    },
    {
      "cell_type": "markdown",
      "metadata": {
        "id": "loh7H2nzphqN"
      },
      "source": [
        "To see how many cancellations are occuring in each year."
      ]
    },
    {
      "cell_type": "markdown",
      "metadata": {
        "id": "_ouA3fa0phqN"
      },
      "source": [
        "##### 2. What is/are the insight(s) found from the chart?"
      ]
    },
    {
      "cell_type": "markdown",
      "metadata": {
        "id": "VECbqPI7phqN"
      },
      "source": [
        "Lead time means the time period between the reservation date and arrival date. Here we can see that Most of them are cancellations are occuring in that leap time in every year."
      ]
    },
    {
      "cell_type": "markdown",
      "metadata": {
        "id": "Seke61FWphqN"
      },
      "source": [
        "##### 3. Will the gained insights help creating a positive business impact?\n",
        "Are there any insights that lead to negative growth? Justify with specific reason."
      ]
    },
    {
      "cell_type": "markdown",
      "metadata": {
        "id": "DW4_bGpfphqN"
      },
      "source": [
        "It is an negative growth. But we can make it positive like, after booking the Hotel rooms we can tell our customers that the amount will be refunded only for certian time period or else we can charge then a certain amount."
      ]
    },
    {
      "cell_type": "markdown",
      "metadata": {
        "id": "PIIx-8_IphqN"
      },
      "source": [
        "#### Chart - 7"
      ]
    },
    {
      "cell_type": "code",
      "execution_count": null,
      "metadata": {
        "id": "lqAIGUfyphqO"
      },
      "outputs": [],
      "source": [
        "# Chart - 7 visualization code (Pie Plot)\n",
        "# 0 is not canceled, 1 i canceled\n",
        "hotel_bookings['is_canceled'].value_counts().plot.pie(autopct='%1.1f%%')\n",
        "plt.title('Overall canceled and not canceled percentage')\n",
        "plt.show()"
      ]
    },
    {
      "cell_type": "markdown",
      "metadata": {
        "id": "t27r6nlMphqO"
      },
      "source": [
        "##### 1. Why did you pick the specific chart?"
      ]
    },
    {
      "cell_type": "markdown",
      "metadata": {
        "id": "iv6ro40sphqO"
      },
      "source": [
        "To see overall canceled and not canceled percentage in Hotels"
      ]
    },
    {
      "cell_type": "markdown",
      "metadata": {
        "id": "r2jJGEOYphqO"
      },
      "source": [
        "##### 2. What is/are the insight(s) found from the chart?"
      ]
    },
    {
      "cell_type": "markdown",
      "metadata": {
        "id": "Po6ZPi4hphqO"
      },
      "source": [
        "We can see that there are 63% of the people who are not canceled their booking. where as the remaining 37% were canceled."
      ]
    },
    {
      "cell_type": "markdown",
      "metadata": {
        "id": "b0JNsNcRphqO"
      },
      "source": [
        "##### 3. Will the gained insights help creating a positive business impact?\n",
        "Are there any insights that lead to negative growth? Justify with specific reason."
      ]
    },
    {
      "cell_type": "markdown",
      "metadata": {
        "id": "xvSq8iUTphqO"
      },
      "source": [
        "Yes, by using that data we can make some changes in our refund policy and to make people to reduce the count of those cancellations"
      ]
    },
    {
      "cell_type": "markdown",
      "metadata": {
        "id": "BZR9WyysphqO"
      },
      "source": [
        "#### Chart - 8"
      ]
    },
    {
      "cell_type": "code",
      "execution_count": null,
      "metadata": {
        "id": "TdPTWpAVphqO"
      },
      "outputs": [],
      "source": [
        "# Chart - 8 visualization code (Countplot)\n",
        "sns.countplot(x='hotel',hue=\"is_canceled\", data=hotel_bookings)\n",
        "plt.title(\"Cancelation rates in particular hotel type\")\n",
        "plt.show()"
      ]
    },
    {
      "cell_type": "markdown",
      "metadata": {
        "id": "jj7wYXLtphqO"
      },
      "source": [
        "##### 1. Why did you pick the specific chart?"
      ]
    },
    {
      "cell_type": "markdown",
      "metadata": {
        "id": "Ob8u6rCTphqO"
      },
      "source": [
        "It is to show that the cancellation count for particular Hotel type"
      ]
    },
    {
      "cell_type": "markdown",
      "metadata": {
        "id": "eZrbJ2SmphqO"
      },
      "source": [
        "##### 2. What is/are the insight(s) found from the chart?"
      ]
    },
    {
      "cell_type": "markdown",
      "metadata": {
        "id": "mZtgC_hjphqO"
      },
      "source": [
        "In resort hotels the cancellations are low with respect to their not cancalled in the same hotel. But where as in city hotels the rate of cancelled are like more than half of the not cancelled customers."
      ]
    },
    {
      "cell_type": "markdown",
      "metadata": {
        "id": "rFu4xreNphqO"
      },
      "source": [
        "##### 3. Will the gained insights help creating a positive business impact?\n",
        "Are there any insights that lead to negative growth? Justify with specific reason."
      ]
    },
    {
      "cell_type": "markdown",
      "metadata": {
        "id": "ey_0qi68phqO"
      },
      "source": [
        "It leads to negative growth in city hotel because rate of cancelled are more than half of the not cancelled customers."
      ]
    },
    {
      "cell_type": "markdown",
      "metadata": {
        "id": "YJ55k-q6phqO"
      },
      "source": [
        "#### Chart - 9"
      ]
    },
    {
      "cell_type": "code",
      "execution_count": null,
      "metadata": {
        "id": "B2aS4O1ophqO"
      },
      "outputs": [],
      "source": [
        "# Chart - 9 visualization code (Histogram plot)\n",
        "sns.distplot( a=hotel_bookings[\"agent\"], hist=True, bins = 20\n",
        "             ).set(title = 'Density of bookings through an agent')\n",
        "\n",
        "[(0.5, 1.0, 'Density of bookings through an agent')]"
      ]
    },
    {
      "cell_type": "markdown",
      "metadata": {
        "id": "gCFgpxoyphqP"
      },
      "source": [
        "##### 1. Why did you pick the specific chart?"
      ]
    },
    {
      "cell_type": "markdown",
      "metadata": {
        "id": "TVxDimi2phqP"
      },
      "source": [
        "It tells about the density of agents who are working on behalf of customers to book the rooms."
      ]
    },
    {
      "cell_type": "markdown",
      "metadata": {
        "id": "OVtJsKN_phqQ"
      },
      "source": [
        "##### 2. What is/are the insight(s) found from the chart?"
      ]
    },
    {
      "cell_type": "markdown",
      "metadata": {
        "id": "ngGi97qjphqQ"
      },
      "source": [
        "We can clearly see that less number of customers are booking their rooms on behalf of them. As we can see only some of the agents in range of 100 and in between 200 and 300 are only their for bookings."
      ]
    },
    {
      "cell_type": "markdown",
      "metadata": {
        "id": "lssrdh5qphqQ"
      },
      "source": [
        "##### 3. Will the gained insights help creating a positive business impact?\n",
        "Are there any insights that lead to negative growth? Justify with specific reason."
      ]
    },
    {
      "cell_type": "markdown",
      "metadata": {
        "id": "tBpY5ekJphqQ"
      },
      "source": [
        "Are there any insights that lead to negative growth? Justify with specific reason.\n",
        "\n",
        "Leads to negative growth for the agents. Because mostly customers are booking the hotels on their own."
      ]
    },
    {
      "cell_type": "markdown",
      "metadata": {
        "id": "U2RJ9gkRphqQ"
      },
      "source": [
        "#### Chart - 10"
      ]
    },
    {
      "cell_type": "code",
      "execution_count": null,
      "metadata": {
        "id": "GM7a4YP4phqQ"
      },
      "outputs": [],
      "source": [
        "# Chart - 10 visualization code (Countplot)\n",
        "sns.countplot(x='arrival_date_year',hue='hotel', data=hotel_bookings)\n",
        "plt.title(\"Type hotels and there arrivals every year\")\n",
        "plt.show()"
      ]
    },
    {
      "cell_type": "markdown",
      "metadata": {
        "id": "1M8mcRywphqQ"
      },
      "source": [
        "##### 1. Why did you pick the specific chart?"
      ]
    },
    {
      "cell_type": "markdown",
      "metadata": {
        "id": "8agQvks0phqQ"
      },
      "source": [
        "To see the arrival rate of customers in every year."
      ]
    },
    {
      "cell_type": "markdown",
      "metadata": {
        "id": "tgIPom80phqQ"
      },
      "source": [
        "##### 2. What is/are the insight(s) found from the chart?"
      ]
    },
    {
      "cell_type": "markdown",
      "metadata": {
        "id": "Qp13pnNzphqQ"
      },
      "source": [
        "Here in 2016 the was very much high in arrivals of the customers . It totally Doubled the business when compare to 2015. But in 2017 the arrival rate was decresed."
      ]
    },
    {
      "cell_type": "markdown",
      "metadata": {
        "id": "JMzcOPDDphqR"
      },
      "source": [
        "##### 3. Will the gained insights help creating a positive business impact?\n",
        "Are there any insights that lead to negative growth? Justify with specific reason."
      ]
    },
    {
      "cell_type": "markdown",
      "metadata": {
        "id": "R4Ka1PC2phqR"
      },
      "source": [
        "Its a negative growth in 2017 compare to 2016. we have much demand in 2016, we have to make that arrivals rate increased or may be to that constant rate but it was decresed. So we have to find the reasons for that decreasing arrivals rate and make it to not to happen in future."
      ]
    },
    {
      "cell_type": "markdown",
      "metadata": {
        "id": "x-EpHcCOp1ci"
      },
      "source": [
        "#### Chart - 11"
      ]
    },
    {
      "cell_type": "code",
      "execution_count": null,
      "metadata": {
        "id": "mAQTIvtqp1cj"
      },
      "outputs": [],
      "source": [
        "#Chart 11 visualization code (Countplot)\n",
        "plt.figure(figsize=(12, 6))\n",
        "sns.countplot(data = hotel_bookings, x = 'arrival_date_month')\n",
        "plt.title('count of arrivals each month')\n",
        "plt.show\n"
      ]
    },
    {
      "cell_type": "markdown",
      "metadata": {
        "id": "X_VqEhTip1ck"
      },
      "source": [
        "##### 1. Why did you pick the specific chart?"
      ]
    },
    {
      "cell_type": "markdown",
      "metadata": {
        "id": "-vsMzt_np1ck"
      },
      "source": [
        "It tells the count of arrivals in every month.\n"
      ]
    },
    {
      "cell_type": "markdown",
      "metadata": {
        "id": "8zGJKyg5p1ck"
      },
      "source": [
        "##### 2. What is/are the insight(s) found from the chart?"
      ]
    },
    {
      "cell_type": "markdown",
      "metadata": {
        "id": "ZYdMsrqVp1ck"
      },
      "source": [
        "We can see that the top 3 arrival months are August, July and May. And the least 3 are January, December and November."
      ]
    },
    {
      "cell_type": "markdown",
      "metadata": {
        "id": "PVzmfK_Ep1ck"
      },
      "source": [
        "##### 3. Will the gained insights help creating a positive business impact?\n",
        "Are there any insights that lead to negative growth? Justify with specific reason."
      ]
    },
    {
      "cell_type": "markdown",
      "metadata": {
        "id": "druuKYZpp1ck"
      },
      "source": [
        "Yes, we can take it as a positive like, in the ending 2 months of each year and starting of the year (Jan) we can make so renovations for our hotels in that particular time. So it may not effect to customers. We can make those changes and things happen by planing it eventually."
      ]
    },
    {
      "cell_type": "markdown",
      "metadata": {
        "id": "n3dbpmDWp1ck"
      },
      "source": [
        "#### Chart - 12"
      ]
    },
    {
      "cell_type": "code",
      "execution_count": null,
      "metadata": {
        "id": "bwevp1tKp1ck"
      },
      "outputs": [],
      "source": [
        "# Chart - 12 visualization code (Histogram plot)\n",
        "sns.distplot( a=hotel_bookings[\"arrival_date_day_of_month\"], hist=True, bins = 20\n",
        "             ).set(title = 'Density of arrival of particular day')\n"
      ]
    },
    {
      "cell_type": "markdown",
      "metadata": {
        "id": "ylSl6qgtp1ck"
      },
      "source": [
        "##### 1. Why did you pick the specific chart?"
      ]
    },
    {
      "cell_type": "markdown",
      "metadata": {
        "id": "m2xqNkiQp1ck"
      },
      "source": [
        "It tells the density of arrivals in particular day."
      ]
    },
    {
      "cell_type": "markdown",
      "metadata": {
        "id": "ZWILFDl5p1ck"
      },
      "source": [
        "##### 2. What is/are the insight(s) found from the chart?"
      ]
    },
    {
      "cell_type": "markdown",
      "metadata": {
        "id": "x-lUsV2mp1ck"
      },
      "source": [
        "We can see more arrivals in the range of 15th day and after the 25th day."
      ]
    },
    {
      "cell_type": "markdown",
      "metadata": {
        "id": "M7G43BXep1ck"
      },
      "source": [
        "##### 3. Will the gained insights help creating a positive business impact?\n",
        "Are there any insights that lead to negative growth? Justify with specific reason."
      ]
    },
    {
      "cell_type": "markdown",
      "metadata": {
        "id": "5wwDJXsLp1cl"
      },
      "source": [
        "In the middle and ending of the months mostly customers are arriving in every months."
      ]
    },
    {
      "cell_type": "markdown",
      "metadata": {
        "id": "Ag9LCva-p1cl"
      },
      "source": [
        "#### Chart - 13"
      ]
    },
    {
      "cell_type": "code",
      "execution_count": null,
      "metadata": {
        "id": "EUfxeq9-p1cl"
      },
      "outputs": [],
      "source": [
        "# Chart - 13 visualization code (Pie chart)\n",
        "hotel_bookings['customer_type'].value_counts().plot.pie(autopct='%1.1f%%')\n",
        "plt.title('Percentage of type of customers arriving')\n",
        "plt.show()"
      ]
    },
    {
      "cell_type": "markdown",
      "metadata": {
        "id": "E6MkPsBcp1cl"
      },
      "source": [
        "##### 1. Why did you pick the specific chart?"
      ]
    },
    {
      "cell_type": "markdown",
      "metadata": {
        "id": "V22bRsFWp1cl"
      },
      "source": [
        "It shows about the percentage of type of customers arriving the hotels"
      ]
    },
    {
      "cell_type": "markdown",
      "metadata": {
        "id": "2cELzS2fp1cl"
      },
      "source": [
        "##### 2. What is/are the insight(s) found from the chart?"
      ]
    },
    {
      "cell_type": "markdown",
      "metadata": {
        "id": "ozQPc2_Ip1cl"
      },
      "source": [
        "Transient guest means an overnight lodging guest who does not intend to stay for any permanent length of time. Here transient guests are more in number like 75% of the customers are transient. Transient-party guests are individuals or groups that are occupying less than 10 rooms per night. Contract made between the Owner and the Renter when the Renter makes payment for a Stay in a Property on a temporary basis."
      ]
    },
    {
      "cell_type": "markdown",
      "metadata": {
        "id": "3MPXvC8up1cl"
      },
      "source": [
        "##### 3. Will the gained insights help creating a positive business impact?\n",
        "Are there any insights that lead to negative growth? Justify with specific reason."
      ]
    },
    {
      "cell_type": "markdown",
      "metadata": {
        "id": "GL8l1tdLp1cl"
      },
      "source": [
        "More no.of customers are transient guest like the like in a short time, which is negative growth. we have to attract customers to arrive our hotels for long period of time."
      ]
    },
    {
      "cell_type": "markdown",
      "metadata": {
        "id": "NC_X3p0fY2L0"
      },
      "source": [
        "#### Chart - 14 - Correlation Heatmap"
      ]
    },
    {
      "cell_type": "code",
      "execution_count": null,
      "metadata": {
        "id": "xyC9zolEZNRQ"
      },
      "outputs": [],
      "source": [
        "# Correlation Heatmap visualization code (Pie chart)\n",
        "hotel_bookings['deposit_type'].value_counts().plot.pie(autopct='%1.1f%%')\n",
        "plt.title('Percentage of deposit type')\n",
        "plt.show()\n"
      ]
    },
    {
      "cell_type": "markdown",
      "metadata": {
        "id": "UV0SzAkaZNRQ"
      },
      "source": [
        "##### 1. Why did you pick the specific chart?"
      ]
    },
    {
      "cell_type": "markdown",
      "metadata": {
        "id": "DVPuT8LYZNRQ"
      },
      "source": [
        "To see the percentage of deposits done by the customers."
      ]
    },
    {
      "cell_type": "markdown",
      "metadata": {
        "id": "YPEH6qLeZNRQ"
      },
      "source": [
        "##### 2. What is/are the insight(s) found from the chart?"
      ]
    },
    {
      "cell_type": "markdown",
      "metadata": {
        "id": "bfSqtnDqZNRR"
      },
      "source": [
        "Almost 88% of customers are booking in advance with 0 deposit and .1% is Refundable. Like the hotels are not charging for advance so that 87.6% of guests are booking with 0 deposit."
      ]
    },
    {
      "cell_type": "markdown",
      "metadata": {
        "id": "q29F0dvdveiT"
      },
      "source": [
        "#### Chart - 15 - Pair Plot"
      ]
    },
    {
      "cell_type": "code",
      "execution_count": null,
      "metadata": {
        "id": "o58-TEIhveiU"
      },
      "outputs": [],
      "source": [
        "# Pair Plot visualization code (Countplot)\n",
        "plt.figure(figsize=(12, 6))\n",
        "sns.countplot(data = hotel_bookings, x = 'market_segment',hue='hotel', palette='cool')\n",
        "plt.title('Types of market segment')\n"
      ]
    },
    {
      "cell_type": "markdown",
      "metadata": {
        "id": "EXh0U9oCveiU"
      },
      "source": [
        "##### 1. Why did you pick the specific chart?"
      ]
    },
    {
      "cell_type": "markdown",
      "metadata": {
        "id": "eMmPjTByveiU"
      },
      "source": [
        "To see the market segments while bookings in particular hotel."
      ]
    },
    {
      "cell_type": "markdown",
      "metadata": {
        "id": "22aHeOlLveiV"
      },
      "source": [
        "##### 2. What is/are the insight(s) found from the chart?"
      ]
    },
    {
      "cell_type": "markdown",
      "metadata": {
        "id": "-tve44Ipekcv"
      },
      "source": [
        "Hotel market segmentation is the process of grouping hotel guests into categories based on their booking patterns and travel habits. online TA - online travel agents make bookings on behalf of their users. there are more booking patterns happening and after that Offline TA/TO"
      ]
    },
    {
      "cell_type": "markdown",
      "metadata": {
        "id": "rQgCGy1de1H_"
      },
      "source": [
        "Chart - 16"
      ]
    },
    {
      "cell_type": "code",
      "execution_count": null,
      "metadata": {
        "id": "WX2Yqodke4p_"
      },
      "outputs": [],
      "source": [
        "#stacked bar plot\n",
        "# 0 not repeated 1 repeated\n",
        "hotel_bookings.groupby(['hotel', 'is_repeated_guest']\n",
        "              )['is_repeated_guest'].count().unstack().plot(kind='bar', stacked=True,\n",
        "                                                             ).set(title = 'Repeated guest in type hotels')"
      ]
    },
    {
      "cell_type": "markdown",
      "metadata": {
        "id": "dYKKXuQNe9oI"
      },
      "source": [
        "1. Why did you pick the specific chart?\n",
        "\n",
        "  This is to show the count of the guests repeated their bookings.\n",
        "\n",
        "2. What is/are the insights found from the chart?\n",
        "\n",
        "  In both of the hotel types the repeated guests are less.\n",
        "\n",
        "3. Will the gained insights help creating a positive business impact?\n",
        "Are there any insights that lead to negative growth? Justify with specific reason.\n",
        "\n",
        "\n",
        "         We have to increase the rate of that repeated guests. Means we have to attract them and we have to take a feedback while their are checking out and so that we can improve on what we are lagging."
      ]
    },
    {
      "cell_type": "markdown",
      "metadata": {
        "id": "JcMwzZxoAimU"
      },
      "source": [
        "## **5. Solution to Business Objective**"
      ]
    },
    {
      "cell_type": "markdown",
      "metadata": {
        "id": "8G2x9gOozGDZ"
      },
      "source": [
        "#### What do you suggest the client to achieve Business Objective ?\n",
        "Explain Briefly."
      ]
    },
    {
      "cell_type": "markdown",
      "metadata": {
        "id": "pASKb0qOza21"
      },
      "source": [
        "In the hotels the staff have to treat the customers well so that they will stay for a long time and they will visit again and again. Most of the customers are transient, which means they are for a short time so we have to attract them.\n",
        "\n",
        "In the hotels they are more cancellations occuring so we have to reduce that. So take a review from the customers that why they are canceling if there was an issue from our side then we can do that not happened again. If there is no particular reason then make some cancellation charges for that so that it may help to reduce the cancellations.\n",
        "\n",
        "And also the refund policy are we giving the reservations with 0 deposit so that many of them are booking with no cost so it may be also an reason for cancellation. So we have to make any deposit amount for reservation or else we have to charge for cancellation fee we have to implement any one it that.\n",
        "\n",
        "To attract children we have to make some changes in hotels like renovating our hotels and keep some playstations etc.\n",
        "\n",
        "We have to take the feedback from our customers so that by analyzing it we can work on that and may increase the count of repeated customers."
      ]
    },
    {
      "cell_type": "markdown",
      "metadata": {
        "id": "gCX9965dhzqZ"
      },
      "source": [
        "# **Conclusion**"
      ]
    },
    {
      "cell_type": "markdown",
      "metadata": {
        "id": "Fjb1IsQkh3yE"
      },
      "source": [
        "DA is crucial for data analysis because it offers insightful data analysis by looking at distributions, correlations, and trends. The EDA in this project clarifies several aspects of hotel reservations and offers suggestions to enhance City Hotel and Resort Hotel's operations and income generating. By using this EDA not only for us to understand for data modelling but also we can explain what are the things going on what should we change in the future and these are the things we can show to ours clients visually. It is an understandable way for our clients to see those visualizations.\n",
        "\n",
        "In conclusion, the exploratory data analysis conducted on the hotel booking data has provided valuable insights into various aspects of customer behavior, booking patterns, and influencing factors."
      ]
    },
    {
      "cell_type": "markdown",
      "metadata": {
        "id": "gIfDvo9L0UH2"
      },
      "source": [
        "### ***Hurrah! You have successfully completed your EDA Capstone Project !!!***"
      ]
    }
  ],
  "metadata": {
    "colab": {
      "collapsed_sections": [
        "gIfDvo9L0UH2"
      ],
      "private_outputs": true,
      "provenance": []
    },
    "kernelspec": {
      "display_name": "Python 3",
      "name": "python3"
    },
    "language_info": {
      "name": "python"
    }
  },
  "nbformat": 4,
  "nbformat_minor": 0
}
